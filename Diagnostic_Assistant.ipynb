{
  "nbformat": 4,
  "nbformat_minor": 0,
  "metadata": {
    "colab": {
      "provenance": [],
      "authorship_tag": "ABX9TyON6+EQ232A1vh0liKyeqMn",
      "include_colab_link": true
    },
    "kernelspec": {
      "name": "python3",
      "display_name": "Python 3"
    },
    "language_info": {
      "name": "python"
    }
  },
  "cells": [
    {
      "cell_type": "markdown",
      "metadata": {
        "id": "view-in-github",
        "colab_type": "text"
      },
      "source": [
        "<a href=\"https://colab.research.google.com/github/lakshitaa4/Diagnostic-Assistant/blob/main/Diagnostic_Assistant.ipynb\" target=\"_parent\"><img src=\"https://colab.research.google.com/assets/colab-badge.svg\" alt=\"Open In Colab\"/></a>"
      ]
    },
    {
      "cell_type": "markdown",
      "source": [
        "***DIAGNOSTIC ASSISTANT***"
      ],
      "metadata": {
        "id": "cvoFi0psHQ6B"
      }
    },
    {
      "cell_type": "code",
      "execution_count": null,
      "metadata": {
        "colab": {
          "base_uri": "https://localhost:8080/"
        },
        "id": "54nsLLyZ3An4",
        "outputId": "02a7fe88-6116-431f-d368-858886fe8b7c"
      },
      "outputs": [
        {
          "output_type": "stream",
          "name": "stdout",
          "text": [
            "\u001b[?25l   \u001b[90m━━━━━━━━━━━━━━━━━━━━━━━━━━━━━━━━━━━━━━━━\u001b[0m \u001b[32m0.0/130.7 kB\u001b[0m \u001b[31m?\u001b[0m eta \u001b[36m-:--:--\u001b[0m\r\u001b[2K   \u001b[91m━━━━━━━━━━━━━━━━━━━━━━━━━━━━━━━━━━━━━\u001b[0m\u001b[91m╸\u001b[0m\u001b[90m━━\u001b[0m \u001b[32m122.9/130.7 kB\u001b[0m \u001b[31m5.8 MB/s\u001b[0m eta \u001b[36m0:00:01\u001b[0m\r\u001b[2K   \u001b[90m━━━━━━━━━━━━━━━━━━━━━━━━━━━━━━━━━━━━━━━━\u001b[0m \u001b[32m130.7/130.7 kB\u001b[0m \u001b[31m3.3 MB/s\u001b[0m eta \u001b[36m0:00:00\u001b[0m\n",
            "\u001b[?25h"
          ]
        }
      ],
      "source": [
        "# @title Setup: Install Dependencies and Configure Gemini Pro API\n",
        "# This section installs necessary libraries and sets up the connection to the Gemini Pro API.\n",
        "\n",
        "# Install the google-generativeai library (for accessing Gemini Pro)\n",
        "# !pip install -q -U google-generativeai\n",
        "pip install -q -U google-genai"
      ]
    },
    {
      "cell_type": "code",
      "source": [
        "# @title Import Necessary Libraries\n",
        "from google import genai\n",
        "from google.genai import types\n",
        "import PIL.Image\n",
        "from google.genai.types import Tool, GenerateContentConfig, GoogleSearch\n",
        "from google.colab import files\n",
        "import cv2\n",
        "import numpy as np\n",
        "from PIL import Image\n",
        "import pathlib\n",
        "import mimetypes\n",
        "client = genai.Client(api_key=\"your-API-KEY\") # Please input your Google Ai Studio API Key"
      ],
      "metadata": {
        "id": "ImiXB5enRhwr"
      },
      "execution_count": 62,
      "outputs": []
    },
    {
      "cell_type": "code",
      "source": [
        "# @title Image Loading and Processing\n",
        "def get_mime_type(file_path):\n",
        "    # Determines the MIME type of a file based on its extension.\n",
        "    mime_type, _ = mimetypes.guess_type(file_path)\n",
        "    return mime_type if mime_type else \"application/octet-stream\"  # Default if unknown\n",
        "\n",
        "def image_upload():\n",
        "  uploaded_files = files.upload()  # Opens a file selection box\n",
        "\n",
        "  images = []\n",
        "  for file_name in uploaded_files.keys():\n",
        "      # Open image using PIL\n",
        "      pil_image = PIL.Image.open(file_name)\n",
        "      mt = get_mime_type(file_name)\n",
        "\n",
        "      # Convert image into correct format for Gemini API\n",
        "      image_part = types.Part.from_bytes(\n",
        "          data=pathlib.Path(file_name).read_bytes(),\n",
        "          mime_type=mt # Adjust mime type if needed (e.g., \"image/png\")\n",
        "      )\n",
        "\n",
        "      # Append processed image to the list\n",
        "      images.append(image_part)\n",
        "      return images\n"
      ],
      "metadata": {
        "id": "a3GisQo7xZvB"
      },
      "execution_count": 63,
      "outputs": []
    },
    {
      "cell_type": "code",
      "source": [
        "# @title System Instruction and Output Format\n",
        "# This section defines the system instruction for Gemini Pro.\n",
        "\n",
        "# Define the system instruction for Gemini Pro\n",
        "# This is like setting the \"persona\" or role of the AI\"\"\"\n",
        "\n",
        "sys_ins = \"\"\"\n",
        "You are a highly skilled and experienced diagnostic assistant AI, designed to aid medical professionals in accurately\n",
        "and efficiently diagnosing diseases. Your primary function is to analyze patient data and provide a ranked list of\n",
        "potential diagnoses with supporting evidence, while also considering and ruling out alternative possibilities.\n",
        "Analyze the following medical data and generate a list of potential diagnoses to assist medical professionals. Your response must be comprehensive and adhere to the following guidelines:\n",
        "\n",
        "1.  **Data Analysis:** Carefully analyze all provided patient information, including medical history, symptoms, physical examination findings, and any relevant details.\n",
        "\n",
        "2.  **Differential Diagnosis:** Generate a ranked list of the top 3-5 most likely diagnoses, along with a probability score (0-100%) for each. Ensure probabilities are realistic, reflecting the likelihood of each diagnosis given the data. Mention the primary diagnosis as \"Primary Diagnoses\" under this section.\n",
        "\n",
        "3.  **Evidence-Based Reasoning (CRITICAL):** For each potential diagnosis, provide a clear and concise explanation of your reasoning. **Crucially, you MUST cite *specific* evidence directly from the provided patient data to support your conclusion.** Avoid general statements; instead, point to precise details in the patient's symptoms, history, or examination findings that support the diagnosis. Explain why you think the patient has this condition.\n",
        "\n",
        "4.  **Alternative Diagnoses:** Discuss at least one alternative diagnosis that could also explain the patient's symptoms. Explain why that diagnosis is considered less likely than the top diagnoses, citing specific evidence against it.\n",
        "\n",
        "5.  **Risk Factor Identification:** Identify any relevant risk factors present in the patient's history or lifestyle that may contribute to the potential diagnoses.\n",
        "\n",
        "6.  **Severity Assessment:** Assess the potential severity of each diagnosis (e.g., mild, moderate, severe, life-threatening) and explain your reasoning.\n",
        "\n",
        "7.  **Follow-Up Recommendations:** Suggest 2-3 relevant follow-up questions, examinations, or laboratory tests that could help to further refine the diagnosis and rule out other possibilities.\n",
        "\n",
        "8.  **Bias Awareness and Mitigation (IMPORTANT):** Identify any potential biases that might be present in your reasoning due to limitations in the provided information, the prompt, or your training data. Present the biases as bullet points. Include recommendations that will give more information regarding each specific bias in order to potentially help to reduce the impact of it.\n",
        "    Don't throw risk factors like 'anxiety' until 80 % sure\n",
        "9. Make reference to the image output so that the information is correctly used. If the image output is not provided or does not aid you in providing more information to what can already be derived, then note that and add the following to 'relevant details': 'Analysis of images was not useful in this case.'\n",
        "\n",
        "10. If the uploaded images are non-medical, respond with the message \"This is not a valid medical image.  Please provide relevant patient details and medical images.\" Do not output JSON in that specific case.\n",
        "\n",
        "11. If the prompt has a question, answer that in \"ans_to_ques\".\n",
        "11.  **Structured Output (MANDATORY):** Provide your response in a JSON format that conforms to the following structure:\n",
        "\n",
        "```json\n",
        "{\n",
        "\n",
        "  \"patient_information\": {\n",
        "    \"age\": [Age],\n",
        "    \"symptoms\": \"[Symptoms]\",\n",
        "    \"relevant_details\": \"[Any Other Pertinent Information]\"\n",
        "  },\n",
        "  \"IMAGE ANALYSIS\": {\n",
        "    \"image type\": \"[Image Type]\",\n",
        "    \"image_analysis\": \"[Image Analysis]\"\n",
        "  }\n",
        "  \"ans_to_ques\": {\"[Answer to Question]\"}\n",
        "  \"differential_diagnosis\": [\n",
        "    {\n",
        "      \"diagnosis\": \"[Diagnosis Name]\",\n",
        "      \"probability\": [Probability Percentage (0-100)],\n",
        "      \"reasoning\": \"[Explanation with SPECIFIC EVIDENCE CITATIONS]\",\n",
        "      \"severity\": \"[Severity Assessment]\",\n",
        "      \"risk_factors\": \"[List of Risk Factors]\"\n",
        "    },\n",
        "    {\n",
        "      \"diagnosis\": \"[Diagnosis Name]\",\n",
        "      \"probability\": [Probability Percentage (0-100)],\n",
        "      \"reasoning\": \"[Explanation with SPECIFIC EVIDENCE CITATIONS]\",\n",
        "      \"severity\": \"[Severity Assessment]\",\n",
        "      \"risk_factors\": \"[List of Risk Factors]\"\n",
        "    },\n",
        "    ...\n",
        "  ],\n",
        "  \"alternative_diagnoses\": [\n",
        "    {\n",
        "      \"diagnosis\": \"[Alternative Diagnosis Name]\",\n",
        "      \"reasoning_against\": \"[Explanation of why this diagnosis is less likely]\"\n",
        "    }\n",
        "  ],\n",
        "  \"follow_up_recommendations\": [\n",
        "    \"[Follow-Up Recommendation 1]\",\n",
        "    \"[Follow-Up Recommendation 2]\",\n",
        "    \"[Follow-Up Recommendation 3]\"\n",
        "  ],\n",
        "  \"biases\": [\n",
        "   {\"bias\": \"[Explanation of limitation]\", \"recommendation\": \"[Recommendation to obtain more information related to the specific bias]\"}\n",
        "  ],\n",
        "  \"confidence_level\": [Confidence Percentage (0-100)],\n",
        "  \"important_note\": \"This information is intended for informational and educational purposes only and does not constitute medical advice. It is essential to consult with a qualified healthcare professional for any health concerns and should not be used as a substitute for a consultation with a healthcare provider.\"\n",
        "}\n",
        "Give output in JSON format\n",
        "\"\"\""
      ],
      "metadata": {
        "id": "vEBxRHydwwn7"
      },
      "execution_count": 70,
      "outputs": []
    },
    {
      "cell_type": "code",
      "source": [
        "# @title Run Gemini Pro: Generate Content\n",
        "# This section makes the call to the Gemini Pro API, passing in the patient data, symptoms, images (if any), and the system instruction.\n",
        "\n",
        "images = image_upload()\n",
        "prompt = input()\n",
        "if not prompt:\n",
        "  prompt = \"Just give output based on image.\"\n",
        "if len(images) == 0:\n",
        "    response = client.models.generate_content(\n",
        "  model=\"gemini-1.5-pro\",\n",
        "  contents=[prompt],\n",
        "  config=types.GenerateContentConfig(\n",
        "        system_instruction=sys_ins, temperature = 0.4))\n",
        "else:\n",
        "    response = client.models.generate_content(\n",
        "    model=\"gemini-1.5-pro\",\n",
        "    contents=[prompt] + images,\n",
        "    config=types.GenerateContentConfig(\n",
        "          system_instruction=sys_ins, temperature = 0.4))"
      ],
      "metadata": {
        "id": "oLzFk6RKlBF6"
      },
      "execution_count": null,
      "outputs": []
    },
    {
      "cell_type": "code",
      "source": [
        "# @title OUTPUT\n",
        "print(response.text)"
      ],
      "metadata": {
        "id": "yezg5sG_zlGX"
      },
      "execution_count": null,
      "outputs": []
    },
    {
      "cell_type": "code",
      "source": [],
      "metadata": {
        "id": "kKQqxsZBCcry"
      },
      "execution_count": null,
      "outputs": []
    }
  ]
}